{
 "cells": [
  {
   "cell_type": "code",
   "execution_count": 1,
   "id": "1f87141b-8999-40bc-9acf-29188bdfc2ed",
   "metadata": {},
   "outputs": [
    {
     "name": "stdout",
     "output_type": "stream",
     "text": [
      "Common elements tuple: (3, 4, 5)\n"
     ]
    }
   ],
   "source": [
    "#21.write a code that takes two tuples as input and returns a new tuple containing elemenets that are common to both input tuples.\n",
    "# Sample tuples\n",
    "tuple1 = (1, 2, 3, 4, 5)\n",
    "tuple2 = (3, 4, 5, 6, 7)\n",
    "\n",
    "common_elements = []\n",
    "\n",
    "for elem in tuple1:\n",
    "    if elem in tuple2 and elem not in common_elements:\n",
    "        common_elements.append(elem)\n",
    "\n",
    "\n",
    "common_tuple = tuple(common_elements)\n",
    "\n",
    "print(\"Common elements tuple:\", common_tuple)\n"
   ]
  },
  {
   "cell_type": "code",
   "execution_count": 3,
   "id": "6ed22905-902f-45ed-8aa8-9b206a461f22",
   "metadata": {},
   "outputs": [
    {
     "name": "stdin",
     "output_type": "stream",
     "text": [
      "Enter the first set of integers separated by commas:  1,2,3,4\n",
      "Enter the second set of integers separated by commas:  1,2,5,6\n"
     ]
    },
    {
     "name": "stdout",
     "output_type": "stream",
     "text": [
      "Intersection of the two sets: {1, 2}\n"
     ]
    }
   ],
   "source": [
    "#22.create a code that promts the user to enter two sets of integers separated by commas .Then print the intersection of these two sets.\n",
    "# Prompt the user to enter two sets of integers separated by commas\n",
    "input1 = input(\"Enter the first set of integers separated by commas: \")\n",
    "input2 = input(\"Enter the second set of integers separated by commas: \")\n",
    "\n",
    "set1 = set(map(int, input1.split(',')))\n",
    "set2 = set(map(int, input2.split(',')))\n",
    "\n",
    "intersection = set1.intersection(set2)\n",
    "\n",
    "print(\"Intersection of the two sets:\", intersection)\n",
    "\n"
   ]
  },
  {
   "cell_type": "code",
   "execution_count": 4,
   "id": "48b100c0-f188-4de6-a478-133c9e3477c5",
   "metadata": {},
   "outputs": [
    {
     "name": "stdout",
     "output_type": "stream",
     "text": [
      "Concatenated tuple: (1, 2, 3, 4, 5, 6)\n"
     ]
    }
   ],
   "source": [
    "#23.write a code to concatenate two tuples.the function should take two tuples as input and return a new tuple containing elements from both the input tuples.\n",
    "# Function to concatenate two tuples\n",
    "def concatenate_tuples(tuple1, tuple2):\n",
    "    concatenated_list = list(tuple1) + list(tuple2)\n",
    "    concatenated_tuple = tuple(concatenated_list)\n",
    "    \n",
    "    return concatenated_tuple\n",
    "\n",
    "\n",
    "tuple1 = (1, 2, 3)\n",
    "tuple2 = (4, 5, 6)\n",
    "\n",
    "concatenated_tuple = concatenate_tuples(tuple1, tuple2)\n",
    "print(\"Concatenated tuple:\", concatenated_tuple)\n",
    "\n"
   ]
  },
  {
   "cell_type": "code",
   "execution_count": 1,
   "id": "b63c4617-8624-415e-bf4c-c2c8b3c0499b",
   "metadata": {},
   "outputs": [
    {
     "name": "stdin",
     "output_type": "stream",
     "text": [
      "Enter elements for set 1 separated by space:  apple banana orange\n",
      "Enter elements for set 2 separated by space:  grapes apple coconut\n"
     ]
    },
    {
     "name": "stdout",
     "output_type": "stream",
     "text": [
      "Elements present in set 1 but not in set 2:\n",
      "banana\n",
      "orange\n"
     ]
    }
   ],
   "source": [
    "#24.Develop a code that prompts the user to input two sets of string .Then print the elements that are present in the first set but not in the second set.\n",
    "# Prompt user to input strings for set 1\n",
    "input_set1 = input(\"Enter elements for set 1 separated by space: \")\n",
    "set1 = set(input_set1.split())\n",
    "\n",
    "input_set2 = input(\"Enter elements for set 2 separated by space: \")\n",
    "set2 = set(input_set2.split())\n",
    "\n",
    "difference_set = set1 - set2\n",
    "\n",
    "\n",
    "print(\"Elements present in set 1 but not in set 2:\")\n",
    "for element in difference_set:\n",
    "    print(element)\n"
   ]
  },
  {
   "cell_type": "code",
   "execution_count": 2,
   "id": "69e800e1-e33b-42f9-9cfb-40b01e44da6a",
   "metadata": {},
   "outputs": [
    {
     "name": "stdout",
     "output_type": "stream",
     "text": [
      "Original tuple: (1, 2, 3, 4, 5, 6, 7, 8, 9)\n",
      "Sliced tuple from index 2 to 6 : (3, 4, 5, 6)\n"
     ]
    }
   ],
   "source": [
    "#25.create a code that takes a tuple and two integer as input.The function should return a new tuple containg elements from the original tuple within the specified range of indices.\n",
    "def slice_tuple(tup, start_index, end_index):\n",
    "    if start_index < 0:\n",
    "        start_index = 0\n",
    "    if end_index > len(tup):\n",
    "        end_index = len(tup)\n",
    "    sliced_tuple = tup[start_index:end_index]\n",
    "    return tuple(sliced_tuple)\n",
    "\n",
    "original_tuple = (1, 2, 3, 4, 5, 6, 7, 8, 9)\n",
    "start_index = 2\n",
    "end_index = 6\n",
    "\n",
    "result_tuple = slice_tuple(original_tuple, start_index, end_index)\n",
    "print(\"Original tuple:\", original_tuple)\n",
    "print(\"Sliced tuple from index\", start_index, \"to\", end_index, \":\", result_tuple)\n"
   ]
  },
  {
   "cell_type": "code",
   "execution_count": 3,
   "id": "a9e52cc0-e69a-43f3-9532-310e3b56618d",
   "metadata": {},
   "outputs": [
    {
     "name": "stdin",
     "output_type": "stream",
     "text": [
      "Enter characters for set 1 (separated by space):  f h t s \n",
      "Enter characters for set 2 (separated by space):  h c r y\n"
     ]
    },
    {
     "name": "stdout",
     "output_type": "stream",
     "text": [
      "Union of set 1 and set 2: {'r', 'c', 'f', 's', ' ', 't', 'h', 'y'}\n"
     ]
    }
   ],
   "source": [
    "#26.write a code prompts the user input two sets of character .Then print the union of the two sets.\n",
    "input_set1 = input(\"Enter characters for set 1 (separated by space): \")\n",
    "set1 = set(input_set1)\n",
    "\n",
    "input_set2 = input(\"Enter characters for set 2 (separated by space): \")\n",
    "set2 = set(input_set2)\n",
    "\n",
    "union_set = set1.union(set2)\n",
    "\n",
    "print(\"Union of set 1 and set 2:\", union_set)\n"
   ]
  },
  {
   "cell_type": "code",
   "execution_count": 4,
   "id": "3ccc96dc-31e1-4bd6-a55c-25f75eb27266",
   "metadata": {},
   "outputs": [
    {
     "name": "stdout",
     "output_type": "stream",
     "text": [
      "Tuple: (5, 3, 9, 1, 7, 2, 8)\n",
      "Maximum value: 9\n",
      "Minimum value: 1\n"
     ]
    }
   ],
   "source": [
    "#27.Develop a code that takes a tuple of integers as input.The function should return the maximum and minimum values from the tuple using tuple unpacking.\n",
    "def find_max_min(tup):\n",
    "    if not tup:\n",
    "        return None, None\n",
    "    max_value = max(tup)\n",
    "    min_value = min(tup)\n",
    "    \n",
    "    return max_value, min_value\n",
    "\n",
    "input_tuple = (5, 3, 9, 1, 7, 2, 8)\n",
    "max_value, min_value = find_max_min(input_tuple)\n",
    "\n",
    "print(\"Tuple:\", input_tuple)\n",
    "print(\"Maximum value:\", max_value)\n",
    "print(\"Minimum value:\", min_value)\n"
   ]
  },
  {
   "cell_type": "code",
   "execution_count": 5,
   "id": "612eb6f2-110c-4c94-a0d8-c2739cc83ae4",
   "metadata": {},
   "outputs": [
    {
     "name": "stdout",
     "output_type": "stream",
     "text": [
      "Set 1: {1, 2, 3, 4, 5}\n",
      "Set 2: {4, 5, 6, 7, 8}\n",
      "Union of set 1 and set 2: {1, 2, 3, 4, 5, 6, 7, 8}\n",
      "Intersection of set 1 and set 2: {4, 5}\n",
      "Difference of set 1 and set 2 (set1 - set2): {1, 2, 3}\n"
     ]
    }
   ],
   "source": [
    "#28.Create a code that defines two sets of integers.Then print the union ,intersection and difference of the two sets.\n",
    "# Define two sets of integers\n",
    "set1 = {1, 2, 3, 4, 5}\n",
    "set2 = {4, 5, 6, 7, 8}\n",
    "\n",
    "union_set = set1.union(set2)\n",
    "\n",
    "intersection_set = set1.intersection(set2)\n",
    "\n",
    "difference_set = set1.difference(set2)\n",
    "\n",
    "print(\"Set 1:\", set1)\n",
    "print(\"Set 2:\", set2)\n",
    "print(\"Union of set 1 and set 2:\", union_set)\n",
    "print(\"Intersection of set 1 and set 2:\", intersection_set)\n",
    "print(\"Difference of set 1 and set 2 (set1 - set2):\", difference_set)\n"
   ]
  },
  {
   "cell_type": "code",
   "execution_count": 6,
   "id": "a1586a3a-4a0c-4ec0-8b43-37ff65508951",
   "metadata": {},
   "outputs": [
    {
     "name": "stdout",
     "output_type": "stream",
     "text": [
      "The element 2 occurs 4 times in the tuple.\n"
     ]
    }
   ],
   "source": [
    "#29.Write a code that takes a tuple and an element as input.The function should return the count of occurences of the given element in the tuple.\n",
    "def count_occurrences(tup, element):\n",
    "    return tup.count(element)\n",
    "\n",
    "input_tuple = (1, 2, 3, 4, 2, 3, 2, 5, 2)\n",
    "element_to_count = 2\n",
    "\n",
    "count = count_occurrences(input_tuple, element_to_count)\n",
    "\n",
    "print(f\"The element {element_to_count} occurs {count} times in the tuple.\")\n"
   ]
  },
  {
   "cell_type": "code",
   "execution_count": 7,
   "id": "c79c5e0b-7ca2-4808-8bcf-ed2636c8554c",
   "metadata": {},
   "outputs": [
    {
     "name": "stdin",
     "output_type": "stream",
     "text": [
      "Enter elements for set 1 separated by space:  smruti ranjan swain\n",
      "Enter elements for set 2 separated by space:  ranjan bikash rudra\n"
     ]
    },
    {
     "name": "stdout",
     "output_type": "stream",
     "text": [
      "Symmetric difference of set 1 and set 2: {'bikash', 'swain', 'smruti', 'rudra'}\n"
     ]
    }
   ],
   "source": [
    "#30.Develop a code that prompts the user to input two set of string .Then print the symmetric difference of these two sets.\n",
    "\n",
    "input_set1 = input(\"Enter elements for set 1 separated by space: \")\n",
    "set1 = set(input_set1.split())\n",
    "\n",
    "input_set2 = input(\"Enter elements for set 2 separated by space: \")\n",
    "set2 = set(input_set2.split())\n",
    "\n",
    "symmetric_difference_set = set1.symmetric_difference(set2)\n",
    "\n",
    "print(\"Symmetric difference of set 1 and set 2:\", symmetric_difference_set)\n"
   ]
  },
  {
   "cell_type": "code",
   "execution_count": 9,
   "id": "16c96957-96e2-4034-8e0e-4f7129bf9c0c",
   "metadata": {},
   "outputs": [
    {
     "name": "stdin",
     "output_type": "stream",
     "text": [
      "Enter words separated by space:  apple orange apple grapes orange coconut\n"
     ]
    },
    {
     "name": "stdout",
     "output_type": "stream",
     "text": [
      "Word frequencies: {'apple': 2, 'orange': 2, 'grapes': 1, 'coconut': 1}\n"
     ]
    }
   ],
   "source": [
    "#31.write a code that takes a list of words as input and returns a dictionary where the keys are unique words \n",
    "def word_frequencies(words):\n",
    "    frequency_dict = {}\n",
    "    for word in words:\n",
    "        if word in frequency_dict:\n",
    "            frequency_dict[word] += 1\n",
    "        else:\n",
    "            frequency_dict[word] = 1\n",
    "    return frequency_dict\n",
    "\n",
    "input_words = input(\"Enter words separated by space: \").split()\n",
    "\n",
    "frequencies = word_frequencies(input_words)\n",
    "\n",
    "print(\"Word frequencies:\", frequencies)\n",
    "\n"
   ]
  },
  {
   "cell_type": "code",
   "execution_count": 10,
   "id": "efc6135a-909e-4bd7-84cb-c4f0f66b0a28",
   "metadata": {},
   "outputs": [
    {
     "name": "stdout",
     "output_type": "stream",
     "text": [
      "Merged dictionary: {'a': 1, 'b': 5, 'c': 7, 'd': 5}\n"
     ]
    }
   ],
   "source": [
    "#32.Write a code that takes two dictionaries and input and merge them into a single dictionary.\n",
    "#If there are common keys , the value should be added together.\n",
    "def merge_dictionaries(dict1, dict2):\n",
    "\n",
    "    merged_dict = dict1.copy()\n",
    "\n",
    "    for key, value in dict2.items():\n",
    "        if key in merged_dict:\n",
    "            \n",
    "            merged_dict[key] += value\n",
    "        else:\n",
    "            merged_dict[key] = value\n",
    "    \n",
    "    return merged_dict\n",
    "\n",
    "dict1 = {'a': 1, 'b': 2, 'c': 3}\n",
    "dict2 = {'b': 3, 'c': 4, 'd': 5}\n",
    "\n",
    "merged_dict = merge_dictionaries(dict1, dict2)\n",
    "\n",
    "print(\"Merged dictionary:\", merged_dict)\n"
   ]
  },
  {
   "cell_type": "code",
   "execution_count": 11,
   "id": "64c01e3b-fe38-4c16-8bbf-77aedfdd6f71",
   "metadata": {},
   "outputs": [
    {
     "name": "stdout",
     "output_type": "stream",
     "text": [
      "Value for keys ['a', 'b', 'c']: 42\n",
      "Value for keys ['x', 'y', 'z']: 99\n",
      "Value for keys ['a', 'b', 'd']: None\n"
     ]
    }
   ],
   "source": [
    "#33.Write a code access a value in a nested dictionary . The function should take the dictionary and list of keys as input and return the corresponding value.\n",
    "#if any of keys do not exist in the dictionary the function should be return none.\n",
    "def get_nested_value(nested_dict, keys):\n",
    "    current_dict = nested_dict\n",
    "    for key in keys:\n",
    "        if key in current_dict:\n",
    "            current_dict = current_dict[key]\n",
    "        else:\n",
    "            return None\n",
    "    return current_dict\n",
    "\n",
    "nested_dict = {\n",
    "    'a': {\n",
    "        'b': {\n",
    "            'c': 42\n",
    "        }\n",
    "    },\n",
    "    'x': {\n",
    "        'y': {\n",
    "            'z': 99\n",
    "        }\n",
    "    }\n",
    "}\n",
    "\n",
    "keys = ['a', 'b', 'c']\n",
    "value = get_nested_value(nested_dict, keys)\n",
    "print(f\"Value for keys {keys}: {value}\")  \n",
    "\n",
    "keys = ['x', 'y', 'z']\n",
    "value = get_nested_value(nested_dict, keys)\n",
    "print(f\"Value for keys {keys}: {value}\")  \n",
    "\n",
    "keys = ['a', 'b', 'd']\n",
    "value = get_nested_value(nested_dict, keys)\n",
    "print(f\"Value for keys {keys}: {value}\")  \n"
   ]
  },
  {
   "cell_type": "code",
   "execution_count": 12,
   "id": "3444ce4e-cc2a-429d-9ed4-24f7f6cafe64",
   "metadata": {},
   "outputs": [
    {
     "name": "stdout",
     "output_type": "stream",
     "text": [
      "Dictionary sorted in ascending order: {'d': 1, 'b': 2, 'a': 5, 'e': 7, 'c': 9}\n",
      "Dictionary sorted in descending order: {'c': 9, 'e': 7, 'a': 5, 'b': 2, 'd': 1}\n"
     ]
    }
   ],
   "source": [
    "#34.Write a code that takes a dictionary as input and returns a sorted version of it based on the values .\n",
    "#You can choose whether to sort in ascending or descending order.\n",
    "def sort_dict_by_values(input_dict, ascending=True):\n",
    "    \n",
    "    sorted_items = sorted(input_dict.items(), key=lambda item: item[1], reverse=not ascending)\n",
    "    \n",
    "    sorted_dict = dict(sorted_items)\n",
    "    return sorted_dict\n",
    "\n",
    "\n",
    "input_dict = {'a': 5, 'b': 2, 'c': 9, 'd': 1, 'e': 7}\n",
    "\n",
    "\n",
    "sorted_dict_ascending = sort_dict_by_values(input_dict, ascending=True)\n",
    "print(\"Dictionary sorted in ascending order:\", sorted_dict_ascending)\n",
    "\n",
    "sorted_dict_descending = sort_dict_by_values(input_dict, ascending=False)\n",
    "print(\"Dictionary sorted in descending order:\", sorted_dict_descending)\n"
   ]
  },
  {
   "cell_type": "code",
   "execution_count": 13,
   "id": "ae2cad6c-fe44-431d-8eff-c6652dabdbfd",
   "metadata": {},
   "outputs": [
    {
     "name": "stdout",
     "output_type": "stream",
     "text": [
      "Original dictionary: {'a': 1, 'b': 2, 'c': 1, 'd': 3, 'e': 2, 'f': 3, 'g': 1}\n",
      "Inverted dictionary: {1: ['a', 'c', 'g'], 2: ['b', 'e'], 3: ['d', 'f']}\n"
     ]
    }
   ],
   "source": [
    "#35.write a code that inverts a dictionary , swapping keys and values.Ensure that the inverted dictionary correctly handless cases where \n",
    "#multiple keys have the same value by storing the keys as a list in the inverted dictionary.\n",
    "def invert_dictionary(input_dict):\n",
    "    inverted_dict = {}\n",
    "    for key, value in input_dict.items():\n",
    "        if value in inverted_dict:\n",
    "            inverted_dict[value].append(key)\n",
    "        else:\n",
    "            inverted_dict[value] = [key]\n",
    "    return inverted_dict\n",
    "\n",
    "input_dict = {\n",
    "    'a': 1,\n",
    "    'b': 2,\n",
    "    'c': 1,\n",
    "    'd': 3,\n",
    "    'e': 2,\n",
    "    'f': 3,\n",
    "    'g': 1\n",
    "}\n",
    "\n",
    "inverted_dict = invert_dictionary(input_dict)\n",
    "\n",
    "\n",
    "print(\"Original dictionary:\", input_dict)\n",
    "print(\"Inverted dictionary:\", inverted_dict)\n"
   ]
  },
  {
   "cell_type": "code",
   "execution_count": null,
   "id": "2012323c-a6f9-492f-a4d3-59b151bab9bf",
   "metadata": {},
   "outputs": [],
   "source": []
  }
 ],
 "metadata": {
  "kernelspec": {
   "display_name": "Python 3 (ipykernel)",
   "language": "python",
   "name": "python3"
  },
  "language_info": {
   "codemirror_mode": {
    "name": "ipython",
    "version": 3
   },
   "file_extension": ".py",
   "mimetype": "text/x-python",
   "name": "python",
   "nbconvert_exporter": "python",
   "pygments_lexer": "ipython3",
   "version": "3.10.8"
  }
 },
 "nbformat": 4,
 "nbformat_minor": 5
}
