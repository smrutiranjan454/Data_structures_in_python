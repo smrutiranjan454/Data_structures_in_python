{
 "cells": [
  {
   "cell_type": "code",
   "execution_count": 4,
   "id": "0c388878-f361-4f53-8a7c-25730bc0f03c",
   "metadata": {},
   "outputs": [
    {
     "name": "stdin",
     "output_type": "stream",
     "text": [
      "Enter a string: Hello world\n"
     ]
    },
    {
     "name": "stdout",
     "output_type": "stream",
     "text": [
      "Reverse string: dlrow olleH\n"
     ]
    }
   ],
   "source": [
    "#1.write a code to reverse a string.\n",
    "input_string = input(\"Enter a string:\")\n",
    "reversed_string = input_string[::-1]\n",
    "print(\"Reverse string:\",reversed_string)\n"
   ]
  },
  {
   "cell_type": "code",
   "execution_count": 7,
   "id": "4ce9b457-beb7-4cdf-b289-25373aadd19d",
   "metadata": {},
   "outputs": [
    {
     "name": "stdin",
     "output_type": "stream",
     "text": [
      "Enter a string: lop\n"
     ]
    },
    {
     "name": "stdout",
     "output_type": "stream",
     "text": [
      "The number of vowels in the string is: 1\n"
     ]
    }
   ],
   "source": [
    "#2.write a code to count number of vowel in string.\n",
    "input_string = input(\"Enter a string:\")\n",
    "vowels = \"aeiouAEIOU\"\n",
    "count = 0\n",
    "\n",
    "for char in input_string:\n",
    "    if char in vowels:\n",
    "        count += 1\n",
    "\n",
    "print(f\"The number of vowels in the string is: {count}\")"
   ]
  },
  {
   "cell_type": "code",
   "execution_count": 11,
   "id": "0766ee6a-12bb-4d6d-bbcc-9c05cf19852f",
   "metadata": {},
   "outputs": [
    {
     "name": "stdin",
     "output_type": "stream",
     "text": [
      "Enter a string: madam\n"
     ]
    },
    {
     "name": "stdout",
     "output_type": "stream",
     "text": [
      "\"madam\" is a palindrome.\n"
     ]
    }
   ],
   "source": [
    "#3.write a code to check if a given string is a pallindrome or not.\n",
    "input_string = input(\"Enter a string:\")\n",
    "\n",
    "normalized_string = input_string.replace(\" \", \"\").lower()\n",
    "is_palindrome = normalized_string == normalized_string[::-1]\n",
    "\n",
    "if is_palindrome:\n",
    "    print(f'\"{input_string}\" is a palindrome.')\n",
    "else:\n",
    "    print(f'\"{input_string}\" is not a palindrome.')"
   ]
  },
  {
   "cell_type": "code",
   "execution_count": 14,
   "id": "f86ec7a7-e0fa-42ad-9efa-a6f6c4c6e2d9",
   "metadata": {},
   "outputs": [
    {
     "name": "stdin",
     "output_type": "stream",
     "text": [
      "Enter 1st string: meat\n",
      "Enter 2nd string: team\n"
     ]
    },
    {
     "name": "stdout",
     "output_type": "stream",
     "text": [
      "\"meat\" and \"team\" are anagrams.\n"
     ]
    }
   ],
   "source": [
    "#4.write a code to check if two given string are anagrams of each other.\n",
    "string1 = input(\"Enter 1st string:\")\n",
    "string2 = input(\"Enter 2nd string:\")\n",
    "\n",
    "normalized_str1 = string1.replace(\" \", \"\").lower()\n",
    "normalized_str2 = string2.replace(\" \", \"\").lower()\n",
    "\n",
    "are_anagrams = sorted(normalized_str1) == sorted(normalized_str2)\n",
    "\n",
    "if are_anagrams:\n",
    "    print(f'\"{string1}\" and \"{string2}\" are anagrams.')\n",
    "else:\n",
    "    print(f'\"{string1}\" and \"{string2}\" are not anagrams.')\n"
   ]
  },
  {
   "cell_type": "code",
   "execution_count": 15,
   "id": "8accdc4e-e6c9-46ca-b6a2-7e0e5a43d764",
   "metadata": {},
   "outputs": [
    {
     "name": "stdout",
     "output_type": "stream",
     "text": [
      "All occurrences of 'test' found at positions: [10, 36]\n"
     ]
    }
   ],
   "source": [
    "#5.write a code to find all occurences of a given substring within another string.\n",
    "input_string = \"This is a test string and this is a test.\"\n",
    "substring = \"test\"\n",
    "start = 0\n",
    "indices = []\n",
    "\n",
    "while start < len(input_string):\n",
    "    start = input_string.find(substring, start)\n",
    "    if start == -1:\n",
    "        break\n",
    "    indices.append(start)\n",
    "    start += 1  \n",
    "\n",
    "print(f\"All occurrences of '{substring}' found at positions: {indices}\")\n"
   ]
  },
  {
   "cell_type": "code",
   "execution_count": 16,
   "id": "5e96d02b-fbc3-4cc3-828f-650e51cbf6ec",
   "metadata": {},
   "outputs": [
    {
     "name": "stdout",
     "output_type": "stream",
     "text": [
      "a2b1c5a3\n"
     ]
    }
   ],
   "source": [
    "#6.write a code to perform basic string compression using the counts of repeatd characters.\n",
    "input_string = \"aabcccccaaa\"\n",
    "compressed_string = \"\"\n",
    "count = 1\n",
    "\n",
    "for i in range(1, len(input_string)):\n",
    "    if input_string[i] == input_string[i - 1]:\n",
    "        count += 1\n",
    "    else:\n",
    "        compressed_string += input_string[i - 1] + str(count)\n",
    "        count = 1\n",
    "compressed_string += input_string[-1] + str(count)\n",
    "\n",
    "\n",
    "if len(compressed_string) >= len(input_string):\n",
    "    print(input_string)\n",
    "else:\n",
    "    print(compressed_string)\n",
    "\n"
   ]
  },
  {
   "cell_type": "code",
   "execution_count": 19,
   "id": "95693f5c-bd42-49b5-b7a1-855ec5b7b095",
   "metadata": {},
   "outputs": [
    {
     "name": "stdin",
     "output_type": "stream",
     "text": [
      "Enter a string: supersttion\n"
     ]
    },
    {
     "name": "stdout",
     "output_type": "stream",
     "text": [
      "The string \"supersttion\" does not have all unique characters.\n"
     ]
    }
   ],
   "source": [
    "#7.write a code to determine if a string has all unique charaters.\n",
    "input_string = input(\"Enter a string:\")\n",
    "is_unique = True\n",
    "\n",
    "seen_chars = set()\n",
    "for char in input_string:\n",
    "    if char in seen_chars:\n",
    "        is_unique = False\n",
    "        break\n",
    "    seen_chars.add(char)\n",
    "\n",
    "if is_unique:\n",
    "    print(f'The string \"{input_string}\" has all unique characters.')\n",
    "else:\n",
    "    print(f'The string \"{input_string}\" does not have all unique characters.')\n"
   ]
  },
  {
   "cell_type": "code",
   "execution_count": 22,
   "id": "a257ca72-ef35-45a3-b0a9-fc1e307a6908",
   "metadata": {},
   "outputs": [
    {
     "name": "stdin",
     "output_type": "stream",
     "text": [
      "Enter a string: Hello\n",
      "Enter 'U' for uppercase conversion or 'L' for lowercase conversion:  U\n"
     ]
    },
    {
     "name": "stdout",
     "output_type": "stream",
     "text": [
      "Uppercase conversion: HELLO\n"
     ]
    }
   ],
   "source": [
    "#8.write a code to convert a given string to uppercase or lowercase.\n",
    "input_string = input(\"Enter a string:\")\n",
    "choice = input(\"Enter 'U' for uppercase conversion or 'L' for lowercase conversion: \")\n",
    "\n",
    "if choice == 'U':\n",
    "    converted_string = input_string.upper()\n",
    "    print(f\"Uppercase conversion: {converted_string}\")\n",
    "elif choice == 'L':\n",
    "    converted_string = input_string.lower()\n",
    "    print(f\"Lowercase conversion: {converted_string}\")\n",
    "else:\n",
    "    print(\"Invalid choice. Please enter 'U' or 'L'.\")\n"
   ]
  },
  {
   "cell_type": "code",
   "execution_count": 25,
   "id": "c2a2295b-096e-40ab-bd3d-36b7d66596f3",
   "metadata": {},
   "outputs": [
    {
     "name": "stdin",
     "output_type": "stream",
     "text": [
      "Enter a string: my name is smrutiranjan\n"
     ]
    },
    {
     "name": "stdout",
     "output_type": "stream",
     "text": [
      "The number of words in the string is: 4\n"
     ]
    }
   ],
   "source": [
    "#9.write a code to count the number of words in a string.\n",
    "input_string = input(\"Enter a string:\")\n",
    "\n",
    "words = input_string.split()\n",
    "    \n",
    "num_words = len(words)\n",
    "\n",
    "print(f\"The number of words in the string is: {num_words}\")\n"
   ]
  },
  {
   "cell_type": "code",
   "execution_count": 27,
   "id": "22c7b3cb-1924-4e1a-84d1-92058a4b7762",
   "metadata": {},
   "outputs": [
    {
     "name": "stdout",
     "output_type": "stream",
     "text": [
      "Concatenated string: Hello, World!\n"
     ]
    }
   ],
   "source": [
    "#10.write a code to concatenate two strings without using the + operator.\n",
    "string1 = input(\"Enter 1st string:\")\n",
    "string2 = input(\"Enter 2nd string:\")\n",
    "\n",
    "concatenated_string_alt = \"\".join([string1, string2])\n",
    "\n",
    "print(\"Concatenated string:\", concatenated_string)\n",
    "\n"
   ]
  },
  {
   "cell_type": "code",
   "execution_count": 1,
   "id": "bb502d4a-ede3-426c-961e-e1b96545cfb8",
   "metadata": {},
   "outputs": [
    {
     "name": "stdout",
     "output_type": "stream",
     "text": [
      "Original list: [1, 2, 3, 4, 2, 5, 2]\n",
      "List after removing 2: [1, 3, 4, 5]\n"
     ]
    }
   ],
   "source": [
    "#11.write a code to remove all occurences of a specific element from a list.\n",
    "# Sample list\n",
    "my_list = [1, 2, 3, 4, 2, 5, 2]\n",
    "\n",
    "element_to_remove = 2\n",
    "filtered_list = [x for x in my_list if x != element_to_remove]\n",
    "\n",
    "print(\"Original list:\", my_list)\n",
    "print(f\"List after removing {element_to_remove}:\", filtered_list)\n"
   ]
  },
  {
   "cell_type": "code",
   "execution_count": 2,
   "id": "ac3e7cf2-6fcd-45da-af19-bef49be47ecc",
   "metadata": {},
   "outputs": [
    {
     "name": "stdout",
     "output_type": "stream",
     "text": [
      "The second largest number in the list is: 8\n"
     ]
    }
   ],
   "source": [
    "#12.implement a code to find the second largest number in a given list of integer.\n",
    "# Sample list\n",
    "numbers = [5, 2, 8, 3, 9, 4, 7]\n",
    "\n",
    "if len(numbers) < 2:\n",
    "    print(\"List has fewer than two numbers.\")\n",
    "else:\n",
    "    first_max = second_max = None\n",
    "\n",
    "    \n",
    "    for num in numbers:\n",
    "        if first_max is None or num > first_max:\n",
    "            second_max = first_max\n",
    "            first_max = num\n",
    "        elif second_max is None or num > second_max:\n",
    "            second_max = num\n",
    "\n",
    "    \n",
    "    if second_max is None:\n",
    "        print(\"List has fewer than two distinct numbers.\")\n",
    "    else:\n",
    "        print(f\"The second largest number in the list is: {second_max}\")\n",
    "\n"
   ]
  },
  {
   "cell_type": "code",
   "execution_count": 3,
   "id": "4d7dbd15-fe3b-4e6d-98e7-8a3a5d5f67f7",
   "metadata": {},
   "outputs": [
    {
     "name": "stdout",
     "output_type": "stream",
     "text": [
      "Occurrences of each element in the list:\n",
      "{1: 2, 2: 3, 3: 1, 4: 1, 5: 1}\n"
     ]
    }
   ],
   "source": [
    "#13.create a code to count the occurrences of each element in a list and return a dictionary with element as key and their counts as values.\n",
    "# Sample list\n",
    "input_list = [1, 2, 3, 2, 1, 4, 2, 5]\n",
    "\n",
    "count_dict = {}\n",
    "\n",
    "for element in input_list:\n",
    "    if element in count_dict:\n",
    "        count_dict[element] += 1\n",
    "    else:\n",
    "        count_dict[element] = 1\n",
    "\n",
    "print(\"Occurrences of each element in the list:\")\n",
    "print(count_dict)\n",
    "\n"
   ]
  },
  {
   "cell_type": "code",
   "execution_count": 4,
   "id": "38368700-8d7d-465a-9f63-1658319a2a58",
   "metadata": {},
   "outputs": [
    {
     "name": "stdout",
     "output_type": "stream",
     "text": [
      "Reversed list: [5, 4, 3, 2, 1]\n"
     ]
    }
   ],
   "source": [
    "#14.write a code to reverse a list in place without using any built in reverse function.\n",
    "# Sample list\n",
    "my_list = [1, 2, 3, 4, 5]\n",
    "\n",
    "left = 0\n",
    "right = len(my_list) - 1\n",
    "\n",
    "while left < right:\n",
    "    \n",
    "    my_list[left], my_list[right] = my_list[right], my_list[left]\n",
    "    \n",
    "    \n",
    "    left += 1\n",
    "    right -= 1\n",
    "\n",
    "print(\"Reversed list:\", my_list)\n",
    "\n"
   ]
  },
  {
   "cell_type": "code",
   "execution_count": 5,
   "id": "f5b80467-c21b-4c19-9168-8d00d4dafa7f",
   "metadata": {},
   "outputs": [
    {
     "name": "stdout",
     "output_type": "stream",
     "text": [
      "List with duplicates removed while preserving order:\n",
      "[1, 2, 3, 4, 5]\n"
     ]
    }
   ],
   "source": [
    "#15.implement a code find and remove duplicates from a list while preserving the original order of elements.\n",
    "# Sample list with duplicates\n",
    "my_list = [1, 2, 3, 2, 4, 1, 5]\n",
    "\n",
    "unique_list = []\n",
    "seen = set()\n",
    "\n",
    "for element in my_list:\n",
    "    \n",
    "    if element not in seen:\n",
    "        seen.add(element)\n",
    "        unique_list.append(element)\n",
    "\n",
    "print(\"List with duplicates removed while preserving order:\")\n",
    "print(unique_list)\n"
   ]
  },
  {
   "cell_type": "code",
   "execution_count": 6,
   "id": "1ecd6e5b-56d1-4a5c-aec5-685ba9705496",
   "metadata": {},
   "outputs": [
    {
     "name": "stdout",
     "output_type": "stream",
     "text": [
      "List 1 is sorted in ascending order.\n",
      "List 2 is sorted in descending order.\n",
      "List 3 is not sorted.\n"
     ]
    }
   ],
   "source": [
    "#16.create a code to check in a given list is sorted (either descending or ascending order ) or not.\n",
    "# Sample lists\n",
    "list1 = [1, 2, 3, 4, 5]       \n",
    "list2 = [5, 4, 3, 2, 1]       \n",
    "list3 = [1, 3, 2, 4, 5]       \n",
    "\n",
    "\n",
    "def is_sorted_ascending(lst):\n",
    "    return all(lst[i] <= lst[i+1] for i in range(len(lst)-1))\n",
    "\n",
    "def is_sorted_descending(lst):\n",
    "    return all(lst[i] >= lst[i+1] for i in range(len(lst)-1))\n",
    "\n",
    "if is_sorted_ascending(list1):\n",
    "    print(\"List 1 is sorted in ascending order.\")\n",
    "elif is_sorted_descending(list1):\n",
    "    print(\"List 1 is sorted in descending order.\")\n",
    "else:\n",
    "    print(\"List 1 is not sorted.\")\n",
    "\n",
    "if is_sorted_ascending(list2):\n",
    "    print(\"List 2 is sorted in ascending order.\")\n",
    "elif is_sorted_descending(list2):\n",
    "    print(\"List 2 is sorted in descending order.\")\n",
    "else:\n",
    "    print(\"List 2 is not sorted.\")\n",
    "\n",
    "if is_sorted_ascending(list3):\n",
    "    print(\"List 3 is sorted in ascending order.\")\n",
    "elif is_sorted_descending(list3):\n",
    "    print(\"List 3 is sorted in descending order.\")\n",
    "else:\n",
    "    print(\"List 3 is not sorted.\")\n",
    "\n"
   ]
  },
  {
   "cell_type": "code",
   "execution_count": 7,
   "id": "cbaf6f8a-1071-4f13-a26d-3287aaddde0e",
   "metadata": {},
   "outputs": [
    {
     "name": "stdout",
     "output_type": "stream",
     "text": [
      "Merged sorted list: [1, 2, 3, 4, 5, 6, 7, 8, 9, 10]\n"
     ]
    }
   ],
   "source": [
    "#17.write a code to merge two sorted lists into a single sorted list.\n",
    "# Sorted lists to merge\n",
    "list1 = [1, 3, 5, 7, 9]\n",
    "list2 = [2, 4, 6, 8, 10]\n",
    "\n",
    "merged_list = []\n",
    "\n",
    "i = 0\n",
    "j = 0\n",
    "\n",
    "while i < len(list1) and j < len(list2):\n",
    "    if list1[i] <= list2[j]:\n",
    "        merged_list.append(list1[i])\n",
    "        i += 1\n",
    "    else:\n",
    "        merged_list.append(list2[j])\n",
    "        j += 1\n",
    "\n",
    "while i < len(list1):\n",
    "    merged_list.append(list1[i])\n",
    "    i += 1\n",
    "\n",
    "while j < len(list2):\n",
    "    merged_list.append(list2[j])\n",
    "    j += 1\n",
    "\n",
    "print(\"Merged sorted list:\", merged_list)\n"
   ]
  },
  {
   "cell_type": "code",
   "execution_count": 1,
   "id": "a29bd187-702d-4197-80e4-338bb3a0114c",
   "metadata": {},
   "outputs": [
    {
     "name": "stdout",
     "output_type": "stream",
     "text": [
      "Intersection of list1 and list2: [3, 4, 5]\n"
     ]
    }
   ],
   "source": [
    "#18.Implement a code find intersection of two given lists.\n",
    "# Sample lists\n",
    "list1 = [1, 2, 3, 4, 5]\n",
    "list2 = [3, 4, 5, 6, 7]\n",
    "\n",
    "intersection = []\n",
    "\n",
    "for elem in list1:\n",
    "    if elem in list2 and elem not in intersection:\n",
    "        intersection.append(elem)\n",
    "\n",
    "print(\"Intersection of list1 and list2:\", intersection)\n"
   ]
  },
  {
   "cell_type": "code",
   "execution_count": 2,
   "id": "32e44fcd-6847-4826-acb0-51e1e0bcab29",
   "metadata": {},
   "outputs": [
    {
     "name": "stdout",
     "output_type": "stream",
     "text": [
      "Union of list1 and list2 (without duplicates): [1, 2, 3, 4, 5, 6, 7]\n"
     ]
    }
   ],
   "source": [
    "#19.create a code find the union of two lists without duplicates.\n",
    "# Sample lists\n",
    "list1 = [1, 2, 3, 4, 5]\n",
    "list2 = [3, 4, 5, 6, 7]\n",
    "\n",
    "union_set = set()\n",
    "\n",
    "for elem in list1:\n",
    "    union_set.add(elem)\n",
    "\n",
    "for elem in list2:\n",
    "    union_set.add(elem)\n",
    "\n",
    "union_list = list(union_set)\n",
    "\n",
    "print(\"Union of list1 and list2 (without duplicates):\", union_list)\n"
   ]
  },
  {
   "cell_type": "code",
   "execution_count": 3,
   "id": "21158eaf-93de-4614-924b-309c2052a0f2",
   "metadata": {},
   "outputs": [
    {
     "name": "stdout",
     "output_type": "stream",
     "text": [
      "Original list: [1, 2, 3, 4, 5]\n",
      "Shuffled list: [3, 5, 2, 4, 1]\n"
     ]
    }
   ],
   "source": [
    "#20.write a code to shuffle a given list randomly without using any built in shuffle function.\n",
    "import random\n",
    "\n",
    "\n",
    "my_list = [1, 2, 3, 4, 5]\n",
    "\n",
    "shuffled_list = my_list[:] \n",
    "\n",
    "\n",
    "for i in range(len(shuffled_list)):\n",
    "    \n",
    "    j = random.randint(0, i)\n",
    "    \n",
    "    \n",
    "    shuffled_list[i], shuffled_list[j] = shuffled_list[j], shuffled_list[i]\n",
    "\n",
    "print(\"Original list:\", my_list)\n",
    "print(\"Shuffled list:\", shuffled_list)\n",
    "\n"
   ]
  },
  {
   "cell_type": "code",
   "execution_count": null,
   "id": "254c3347-260a-4a85-a48c-8c6b8f560bbf",
   "metadata": {},
   "outputs": [],
   "source": []
  }
 ],
 "metadata": {
  "kernelspec": {
   "display_name": "Python 3 (ipykernel)",
   "language": "python",
   "name": "python3"
  },
  "language_info": {
   "codemirror_mode": {
    "name": "ipython",
    "version": 3
   },
   "file_extension": ".py",
   "mimetype": "text/x-python",
   "name": "python",
   "nbconvert_exporter": "python",
   "pygments_lexer": "ipython3",
   "version": "3.10.8"
  }
 },
 "nbformat": 4,
 "nbformat_minor": 5
}
